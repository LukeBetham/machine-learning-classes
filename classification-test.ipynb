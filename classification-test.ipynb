{
 "cells": [
  {
   "cell_type": "code",
   "execution_count": 2,
   "metadata": {
    "ExecuteTime": {
     "end_time": "2020-03-19T15:29:31.588255Z",
     "start_time": "2020-03-19T15:29:31.560442Z"
    },
    "code_folding": []
   },
   "outputs": [
    {
     "data": {
      "text/html": [
       "<style>.container { width:90% !important; }</style>"
      ],
      "text/plain": [
       "<IPython.core.display.HTML object>"
      ]
     },
     "metadata": {},
     "output_type": "display_data"
    }
   ],
   "source": [
    "# import libraries\n",
    "import pandas as pd\n",
    "import numpy as np\n",
    "import matplotlib.pyplot as plt\n",
    "import seaborn as sns\n",
    "import time\n",
    "import scikitplot as skplt\n",
    "\n",
    "# settings\n",
    "sns.set(font_scale=1.5)\n",
    "%config InlineBackend.figure_format = 'retina'\n",
    "%matplotlib inline\n",
    "\n",
    "# import models from sklearn\n",
    "from sklearn import datasets, metrics, naive_bayes\n",
    "from sklearn.preprocessing import StandardScaler, PowerTransformer\n",
    "from sklearn.linear_model import LogisticRegression, LogisticRegressionCV\n",
    "from sklearn.model_selection import train_test_split,cross_val_score, StratifiedKFold, GridSearchCV, KFold\n",
    "from sklearn.metrics import classification_report, confusion_matrix, accuracy_score\n",
    "from sklearn.neighbors import KNeighborsClassifier\n",
    "from sklearn.tree import DecisionTreeClassifier\n",
    "from sklearn.ensemble import BaggingClassifier, RandomForestClassifier, AdaBoostClassifier, GradientBoostingClassifier\n",
    "from matplotlib.colors import ListedColormap\n",
    "from sklearn.svm import LinearSVC, SVC\n",
    "from sklearn.neural_network import MLPClassifier\n",
    "from six import StringIO  \n",
    "from IPython.display import Image  \n",
    "from sklearn.tree import export_graphviz\n",
    "import pydotplus\n",
    "import scipy.stats as stats\n",
    "\n",
    "# skip warnings\n",
    "def warn(*args, **kwargs):\n",
    "    pass\n",
    "import warnings\n",
    "warnings.warn = warn\n",
    "\n",
    "# change cell width\n",
    "from IPython.core.display import display, HTML\n",
    "display(HTML(\"<style>.container { width:90% !important; }</style>\"))"
   ]
  },
  {
   "cell_type": "code",
   "execution_count": 71,
   "metadata": {
    "ExecuteTime": {
     "end_time": "2020-03-19T15:45:49.953817Z",
     "start_time": "2020-03-19T15:45:49.884154Z"
    }
   },
   "outputs": [],
   "source": [
    "class full_classification:\n",
    "    \"\"\"A class which automatically does all classification models and gridsearches for you (logisitic default). \n",
    "    Note: when you run a new model it will overwrite the previous model. You can access the current model with .model and .model_des.\n",
    "    Other options:\n",
    "    run_all = default True, if set to false the class will not automatically run any models\n",
    "    baseline = default 0, set this to your baseline accuracy measure for comparision stats\n",
    "    standardize = default True, uses standard scaler and fit-transforms on train, transform on test if exists\n",
    "    test_size = default 0.15, decide the side of your test set - set to 0 if dont want test\n",
    "    folds = default 6, amount of folds for cross validation - integer > 1\n",
    "    shuffle = default True, shuffle the data for test split and cross val\n",
    "    stratify = default None, input the variable that you which to stratify the data by\n",
    "    print_info = default True, print all of the results out every time you run a model\n",
    "    save_it = default False, this adds functionality to be able to save down all model results into a\n",
    "              dataframe, set as a global variable called model_tracker.\n",
    "    comment = default None, This is a comment field for the model_tracker\n",
    "    Go to readme for further information: https://github.com/LukeBetham/machine-learning-classes/blob/master/README.md\n",
    "    Created by LukeBetham\"\"\"\n",
    "\n",
    "    def __init__(self, X, y, run_all=True, baseline=0, standardize=True,\n",
    "                 test_size=0.15, folds=6, shuffle=True, stratify=None,\n",
    "                 print_info=True, save_it=False, comment=None):\n",
    "        # Save settings to object\n",
    "        self.folds = folds\n",
    "        self.shuffle = shuffle\n",
    "        self.stratify= stratify\n",
    "        self.comment = comment\n",
    "        self.save_it = save_it\n",
    "        self.print_info = print_info\n",
    "        if self.stratify == None:\n",
    "            self.kfold = KFold(self.folds, shuffle=self.shuffle, random_state=66)\n",
    "        else:\n",
    "            self.kfold = StratifiedKFold(self.folds, shuffle=self.shuffle, random_state=66)\n",
    "        # Option for bolding print text\n",
    "        self.BOLD = '\\033[1m'\n",
    "        self.END = '\\033[0m'\n",
    "        # Create train-test split if selected\n",
    "        self.X = X\n",
    "        self.y = y\n",
    "        self.baseline = baseline\n",
    "        self.test = test_size\n",
    "        if self.test != 0:\n",
    "            self.X, self.X_test, self.y, self.y_test, self.index_train, self.index_test = train_test_split(\n",
    "                self.X, self.y, self.X.index, test_size=self.test, shuffle=self.shuffle, stratify=self.stratify, \n",
    "                random_state=66)\n",
    "        # Standardise the data if selected\n",
    "        if standardize != 'none':\n",
    "            scaler = StandardScaler()\n",
    "            self.X = pd.DataFrame(\n",
    "                scaler.fit_transform(self.X), columns=self.X.columns)\n",
    "            if self.test != 0:\n",
    "                self.X_test = pd.DataFrame(\n",
    "                    scaler.transform(self.X_test), columns=self.X.columns)\n",
    "        # Run all models\n",
    "        if run_all==True:\n",
    "            self.knn_model()\n",
    "            self.decision_tree_model()\n",
    "            self.logistic_model()\n",
    "            self.random_forest_model()\n",
    "            self.ADAboosting_model()\n",
    "            self.GradientBoosting()\n",
    "            self.NaiveBayes()\n",
    "            self.LinearSVC()\n",
    "            #only enable this one if small dataset or want to wait a while\n",
    "            self.PolynomialSVC()\n",
    "            self.GaussianSVC()\n",
    "\n",
    "    def logistic_model(self, Logistic=LogisticRegression()):\n",
    "        # Set up Logistic Regresssion\n",
    "        self.model = Logistic\n",
    "        self.model_des = \"Logistic Regression Model\"\n",
    "        self.grid_multiple = 30\n",
    "        self.model_calc()\n",
    "        if self.print_info==True:\n",
    "            print(\"Run .coefs() to see coef dataframe\")\n",
    "\n",
    "    def knn_model(self, KNN=KNeighborsClassifier(n_neighbors=10)):\n",
    "        # set up KNN model\n",
    "        self.model = KNN\n",
    "        self.model_des = \"K Neighbors Model\"\n",
    "        self.grid_multiple = 30\n",
    "        self.model_calc()\n",
    "        if self.print_info==True:\n",
    "            print(\"Run .knn_all_k() to run all possible k values and find best k value.\")\n",
    "\n",
    "    def knn_all_k(self, limit = 400):\n",
    "        # run KNN for all possible Ks and graph them\n",
    "        self.scores = []\n",
    "        self.max_k = np.minimum(limit,int(len(self.y)*(1-(1/self.folds))-1))\n",
    "        for k in range(1, self.max_k):\n",
    "            knn = KNeighborsClassifier(n_neighbors=k)\n",
    "            self.scores.append(np.mean(cross_val_score(knn, self.X, self.y, cv=self.kfold)))\n",
    "        self.knn_best = self.scores.index(np.max(self.scores))+1\n",
    "        plt.plot(range(1, self.max_k), self.scores, label='Mean CV Scores')\n",
    "        plt.hlines(self.baseline, 1, self.max_k, label='baseline')\n",
    "        plt.xlabel('k')\n",
    "        plt.ylabel('accuracy')\n",
    "        plt.legend(loc=[1.1, 0])\n",
    "        print(self.BOLD + \"Highest KNN Score:\" + self.END, self.knn_best)\n",
    "        plt.show()\n",
    "\n",
    "    def decision_tree_model(self, print_tree=False, DecisionTree=DecisionTreeClassifier(criterion='gini', splitter='best',\n",
    "                                                                                        max_depth=None, random_state=66)):\n",
    "        # set up decision tree model\n",
    "        self.model = DecisionTree\n",
    "        self.model_des = \"Decision Tree Model\"\n",
    "        self.grid_multiple = 50\n",
    "        self.model_calc()\n",
    "        if print_tree == True:\n",
    "            dot_data = StringIO() \n",
    "            export_graphviz(self.model, out_file=dot_data, filled=True, rounded=True,\n",
    "                            special_characters=True, feature_names=self.X.columns)  \n",
    "\n",
    "            graph = pydotplus.graph_from_dot_data(dot_data.getvalue())  \n",
    "            display(Image(graph.create_png()))\n",
    "\n",
    "    def random_forest_model(self, forest=RandomForestClassifier(n_estimators=100, criterion='gini', max_depth=None, min_samples_split=2, random_state=66)):\n",
    "        self.model = forest\n",
    "        self.model_des = \"Random Forest Model\"\n",
    "        self.grid_multiple = 9.5\n",
    "        self.model_calc()\n",
    "\n",
    "    def ADAboosting_model(self, plot_it=False, estimators=100, base_estimator=DecisionTreeClassifier(max_depth=3,random_state=66)):\n",
    "        self.model = AdaBoostClassifier(base_estimator=base_estimator, n_estimators=estimators,\n",
    "                                        algorithm='SAMME', random_state=66)\n",
    "        self.model_des = \"ADA Boosting Model\"\n",
    "        self.grid_multiple = 2.5\n",
    "        self.model_calc()\n",
    "        # plot\n",
    "        if plot_it == True:\n",
    "            plt.plot(list(self.model.staged_score(self.X, self.y)),\n",
    "                     label='training score', lw=2)\n",
    "            plt.plot(list(self.model.staged_score(\n",
    "                self.X_test, self.y_test)), label='test score', lw=2)\n",
    "            plt.xlabel('iteration')\n",
    "            plt.ylabel('score')\n",
    "            plt.legend()\n",
    "            plt.show()\n",
    "            \n",
    "    def GradientBoosting(self, grad_model=GradientBoostingClassifier(n_estimators=100)):\n",
    "        self.model = grad_model\n",
    "        self.model_des = \"Gradient Boosting Model\"\n",
    "        self.grid_multiple = 2.5\n",
    "        self.model_calc()\n",
    "    \n",
    "    def NaiveBayes(self, nbtype = naive_bayes.GaussianNB(),power_transform=False):\n",
    "        self.model = nbtype\n",
    "        self.model_des = \"Naive Bayes Model\"\n",
    "        self.grid_multiple = 2.5\n",
    "        # With the option to power transform to make distribution more normal for the GaussianNB          \n",
    "        if power_transform == True:\n",
    "            X_temp, X_test_temp = self.X.copy(), self.X_test.copy()\n",
    "            power = PowerTransformer()\n",
    "            self.X = pd.DataFrame(power.fit_transform(self.X),columns=self.X_tp.columns)\n",
    "            self.X_test = power.transform(self.X_test)\n",
    "            self.model_des = self.model_des +\" with Power Transform\"\n",
    "            self.model_calc()\n",
    "            self.X, self.X_test = X_temp.copy(), X_test_temp.copy()\n",
    "        else:\n",
    "            self.model_calc()\n",
    "    \n",
    "    def LinearSVC(self,svc = LinearSVC(C=1, loss=\"hinge\")):\n",
    "        self.model = svc\n",
    "        self.model_des = \"Linear Support Vectors Model\"\n",
    "        self.grid_multiple = 0.5                  \n",
    "        self.model_calc()\n",
    "        \n",
    "    def PolynomialSVC(self,psvc = SVC(kernel=\"poly\", degree=3, coef0=1, C=5)):\n",
    "        self.model = psvc\n",
    "        self.model_des = \"Polynomial Support Vectors Model\"\n",
    "        self.grid_multiple = 4.5 \n",
    "        self.model_calc()\n",
    "        \n",
    "    def GaussianSVC(self,gsvc = SVC(kernel=\"rbf\", gamma=5, C=0.001)):\n",
    "        self.model = gsvc\n",
    "        self.model_des = \"Gaussian (rbf) Support Vectors Model\"\n",
    "        self.grid_multiple = 15\n",
    "        self.model_calc()\n",
    "    \n",
    "    def MLP_Neural_Net(self,params = MLPClassifier(solver='adam', alpha=10**(0),\n",
    "                                        hidden_layer_sizes=(10, 10, 10), activation='relu',\n",
    "                                        random_state=42, batch_size=50,max_iter=500)):\n",
    "        self.model = params\n",
    "        self.model_des = 'MLP Classifier Neural Net'\n",
    "        self.grid_multiple = 15\n",
    "        self.model_calc()\n",
    "\n",
    "    def coefs(self):\n",
    "        self.dfc = pd.DataFrame(self.coef, columns=self.X.columns)\n",
    "        return self.dfc\n",
    "\n",
    "    def model_calc(self):\n",
    "        # fit model\n",
    "        t0 = time.time()\n",
    "        self.model.fit(self.X, self.y)\n",
    "        self.sc = self.model.score(self.X, self.y)\n",
    "        self.cvs = cross_val_score(self.model, self.X, self.y, cv=self.kfold).mean()\n",
    "        # Get test score\n",
    "        if self.test != 0:\n",
    "            self.sct = self.model.score(self.X_test, self.y_test)\n",
    "            self.sctp = str(round(self.sct, 4))+\" - better than baseline by \" + \\\n",
    "                str(round(self.sct-self.baseline, 4))\n",
    "        else:\n",
    "            self.sctp = None\n",
    "        # time the running of the model\n",
    "        t1 = time.time()\n",
    "        self.elaspsed = t1-t0\n",
    "        # show the results from the classification model\n",
    "        if self.print_info==True:\n",
    "            print('\\n',self.BOLD + self.model_des, 'Test\\nModel Score:' + self.END, round(self.sc, 4), \"- better than baseline by\", round(self.sc-self.baseline, 4),\n",
    "                  self.BOLD + '\\nCV Fold Score:' +\n",
    "                  self.END, round(\n",
    "                      self.cvs, 4), \"- better than baseline by\", round(self.cvs-self.baseline, 4),\n",
    "                  self.BOLD + \"\\nModel Test Score:\" + self.END, self.sctp)\n",
    "            print(\"Time Elapsed = \", round(self.elaspsed, 2), 'secs - grid will take ~',\n",
    "                  round(self.elaspsed*self.grid_multiple, 2), 'minutes to run.')\n",
    "        try:\n",
    "            self.coef = self.model.coef_\n",
    "            self.coefs\n",
    "        except:\n",
    "            pass\n",
    "        if self.save_it == True:\n",
    "            self.tracking()\n",
    "            print(\"Saved model to global model tracker.\")\n",
    "            \n",
    "    def tracking(self):\n",
    "        global model_tracker\n",
    "        if not isinstance(model_tracker, pd.DataFrame):\n",
    "            model_tracker = pd.DataFrame(columns = ['model_type','model_train_score','cv_score',\n",
    "                                                    'test_score','predictors','baseline',\n",
    "                                                    'cv_above_baseline','model_params','time',\n",
    "                                                    'comment'])\n",
    "        df_temp = pd.DataFrame({'model_type':self.model_des,'model_train_score':self.sc,\n",
    "                                'cv_score':self.cvs,'test_score':self.sct,'predictors': str(','.join(self.X.columns)),\n",
    "                                'baseline':self.baseline,'cv_above_baseline':self.cvs-self.baseline,\n",
    "                                'model_params':str(self.model),'time':self.elaspsed,'comment':self.comment},\n",
    "                               index=[len(model_tracker.index)])\n",
    "        model_tracker =  pd.concat([model_tracker,df_temp])\n",
    "\n",
    "    def gridsearch(self, params='default', cores = 1):\n",
    "        \"\"\"A function which automatically runs a gridsearch on your selected model. Returns model_grid model with best parameters.\n",
    "        Defaults for Logistic (600 iterations): {'penalty': ['l1', 'l2', 'elasticnet'], 'solver': ['saga'], 'C': np.logspace(-5, 5, 5), 'l1_ratio': np.linspace(0.0001, 1, 4)}\n",
    "        Defaults for KNN: self.params (100 iterations) = {'n_neighbors':range(1,20,1), 'weights':['uniform','distance'], 'p':[1,2]}         \n",
    "        Defaults for Decision Tree (1000 iterations) = {'criterion':['gini','entropy'],'max_depth': [None,5,6,7,8],'max_features':['auto'],'splitter':['best','random'],'min_samples_split':[2,3,4,5],'ccp_alpha':[0.0,0.0001,0.001,.01,.1,1,10,100],'class_weight':[None,'balanced']}        \n",
    "        Defaults for Random Forest (575 iterations) = {'n_estimators':[100,200,500], 'criterion':['gini':'entropy'], 'max_depth':[None], 'min_samples_split':[2,4,6],\"max_features\":[\"auto\",\"log2\"],'oob_score':[True,False],'warm_start':[True,False],'ccp_alpha'=[0.0,0.5,1,10]}      \n",
    "        Defaults for ADABoosting Model  (150 iterations)  = {\"learning_rate\": [0.05, 0.25, 0.5, 0.75, 1], \"max_depth\":[1,2,3,4,5],\"max_features\":[\"auto\",\"log2\"],\"n_estimators\":[100,200,500]}      \n",
    "                \"\"\"\n",
    "        # setting the default parameters if not set by user\n",
    "        if params == 'default':\n",
    "            if self.model_des == \"Logistic Regression Model\":\n",
    "                self.params = {'penalty': ['l1', 'l2', 'elasticnet'], 'solver': ['saga'], 'C': np.logspace(-5, 5, 5), 'l1_ratio': np.linspace(0.0001, 1, 4)}\n",
    "            elif self.model_des == \"K Neighbors Model\":\n",
    "                self.params = {'n_neighbors': range(1, 20, 1), 'weights': ['uniform', 'distance'], 'p': [1, 2]}\n",
    "            elif self.model_des == \"Decision Tree Model\":\n",
    "                self.params = {'criterion': ['gini', 'entropy'], 'max_depth': [None, 5, 6, 7, 8], 'max_features': ['auto'], 'splitter': [\n",
    "                    'best', 'random'], 'min_samples_split': [2, 3, 4, 5], 'ccp_alpha': [0.0, 0.0001, 0.001, .01, .1, 1, 10, 100], 'class_weight': [None, 'balanced']}\n",
    "            elif self.model_des == \"Random Forest Model\":\n",
    "                self.params = {'n_estimators':[100,200,500], 'criterion':['gini','entropy'], 'max_depth':[None], 'min_samples_split':[2,6],\"max_features\":[\"auto\",\"log2\"],\n",
    "                               'oob_score':[True,False],'warm_start':[True,False],'ccp_alpha':[0.0,0.5,1]}\n",
    "            elif self.model_des == \"ADA Boosting Model\": \n",
    "                self.params = {\"learning_rate\": [0.05, 0.25, 0.5, 0.75, 1], 'base_estimator':[DecisionTreeClassifier(max_depth=1),DecisionTreeClassifier(max_depth=2),DecisionTreeClassifier(max_depth=3),DecisionTreeClassifier(max_depth=4),DecisionTreeClassifier(max_depth=5)],\n",
    "                               'algorithm':['SAMME'],\"n_estimators\":[100,200,500,1000]}\n",
    "            elif self.model_des == \"Gradient Boosting Model\":  \n",
    "                pass\n",
    "            elif self.model_des == \"Naive Bayes Model\":\n",
    "                pass\n",
    "            elif self.model_des == \"Linear Support Vectors Model\": \n",
    "                self.params = {'C':np.linspace(-10,10,20),'loss':['hinge','squared_hinge']}\n",
    "            elif self.model_des == \"Gaussian (rbf) Support Vectors Model\": \n",
    "                self.params = {'C':np.linspace(-10,10,15),'gamma':np.linspace(0.00001,100,15),'kernel':['rbf']}\n",
    "            elif self.model_des == \"Polynomial Support Vectors Model\": \n",
    "                self.params = {'C':np.linspace(-10,10,15),'coef0':[0,1,2,3,4,10],'kernel':['poly'],'degree':[2,3,4]}\n",
    "        else:\n",
    "            self.params = params\n",
    "        # setup the gridsearch\n",
    "        self.grid = GridSearchCV(self.model, self.params, verbose=1, n_jobs=cores, cv=StratifiedKFold(\n",
    "            self.folds, shuffle=self.shuffle, random_state=66))\n",
    "        self.grid.fit(self.X, self.y)\n",
    "        self.gsc = self.grid.best_score_\n",
    "        self.best = self.grid.best_params_\n",
    "        self.model = self.grid.best_estimator_\n",
    "        self.model_des = self.model_des + \" Grid Search:\"\n",
    "        try:\n",
    "            self.coef = self.grid.best_estimator_.coef_\n",
    "        except:\n",
    "            pass\n",
    "        # Check test score for grid\n",
    "        try:\n",
    "            self.sct = self.grid.best_estimator_.score(\n",
    "                self.X_test, self.y_test)\n",
    "            self.sctp = str(round(self.sct, 4))+\" - better than baseline by \" + \\\n",
    "                str(round(self.sct-self.baseline, 4))\n",
    "        except:\n",
    "            self.sctp = None\n",
    "        # Print Grid results\n",
    "        if self.print_info==True:\n",
    "            print(self.BOLD + self.model_des + self.END)\n",
    "            print(self.BOLD + \"Best Mean CV Model Score:\" + self.END, round(self.gsc, 4), \"- which is better than baseline by\",\n",
    "                  round(self.gsc-self.baseline, 4), self.BOLD + \"\\nModel Test Score:\" + self.END, self.sctp)\n",
    "            print(self.BOLD + 'Grid Best Parameters:\\n' + self.END, self.best)\n",
    "            print(self.BOLD + '\\nSearch Parameters:\\n' + self.END, self.params)\n",
    "        self.coefs()\n",
    "\n",
    "    def matrix_n_graphs(self, normalize=True):\n",
    "        print(self.BOLD + self.model_des, \"on X_test\" + self.END)\n",
    "        self.y_pred = self.model.predict(self.X_test)\n",
    "        skplt.metrics.plot_confusion_matrix(\n",
    "            self.y_test, self.y_pred, figsize=(8, 8), labels=[0, 1], normalize=normalize)\n",
    "        plt.xlim(-0.5, len(self.model.classes_)-0.5)\n",
    "        plt.ylim(len(self.model.classes_)-0.5, -0.5)\n",
    "        plt.show()\n",
    "        cmap = ListedColormap(sns.color_palette(\"husl\", 3))\n",
    "        skplt.metrics.plot_roc(self.y_test, self.model.predict_proba(self.X_test), plot_micro=False,\n",
    "                               plot_macro=False, title_fontsize=20, text_fontsize=16, figsize=(8, 8), cmap=cmap)\n",
    "        plt.show()\n",
    "        fig, ax = plt.subplots(figsize=(8, 8))\n",
    "        skplt.metrics.plot_precision_recall(self.y_test, self.model.predict_proba(\n",
    "            self.X_test), plot_micro=False, title_fontsize=20, text_fontsize=16, cmap=cmap, ax=ax)\n",
    "        ax.legend(loc=[1.1, 0])\n",
    "        plt.show()\n"
   ]
  },
  {
   "cell_type": "code",
   "execution_count": 84,
   "metadata": {
    "ExecuteTime": {
     "end_time": "2020-03-19T15:50:23.674674Z",
     "start_time": "2020-03-19T15:50:23.615275Z"
    }
   },
   "outputs": [],
   "source": [
    "df = pd.read_csv('/Users/lukebetham/Documents/DSI_General_Assembly/resource-datasets/spam/spam_modified.csv')"
   ]
  },
  {
   "cell_type": "code",
   "execution_count": 85,
   "metadata": {
    "ExecuteTime": {
     "end_time": "2020-03-19T15:50:23.906805Z",
     "start_time": "2020-03-19T15:50:23.879376Z"
    }
   },
   "outputs": [
    {
     "data": {
      "text/html": [
       "<div>\n",
       "<style scoped>\n",
       "    .dataframe tbody tr th:only-of-type {\n",
       "        vertical-align: middle;\n",
       "    }\n",
       "\n",
       "    .dataframe tbody tr th {\n",
       "        vertical-align: top;\n",
       "    }\n",
       "\n",
       "    .dataframe thead th {\n",
       "        text-align: right;\n",
       "    }\n",
       "</style>\n",
       "<table border=\"1\" class=\"dataframe\">\n",
       "  <thead>\n",
       "    <tr style=\"text-align: right;\">\n",
       "      <th></th>\n",
       "      <th>word_freq_make</th>\n",
       "      <th>word_freq_address</th>\n",
       "      <th>word_freq_all</th>\n",
       "      <th>word_freq_3d</th>\n",
       "      <th>word_freq_our</th>\n",
       "      <th>word_freq_over</th>\n",
       "      <th>word_freq_remove</th>\n",
       "      <th>word_freq_internet</th>\n",
       "      <th>word_freq_order</th>\n",
       "      <th>word_freq_mail</th>\n",
       "      <th>...</th>\n",
       "      <th>char_freq_q</th>\n",
       "      <th>char_freq_r</th>\n",
       "      <th>char_freq_s</th>\n",
       "      <th>char_freq_t</th>\n",
       "      <th>char_freq_u</th>\n",
       "      <th>char_freq_v</th>\n",
       "      <th>char_freq_w</th>\n",
       "      <th>char_freq_x</th>\n",
       "      <th>char_freq_y</th>\n",
       "      <th>char_freq_z</th>\n",
       "    </tr>\n",
       "  </thead>\n",
       "  <tbody>\n",
       "    <tr>\n",
       "      <th>0</th>\n",
       "      <td>0.00</td>\n",
       "      <td>0.64</td>\n",
       "      <td>0.64</td>\n",
       "      <td>0.0</td>\n",
       "      <td>0.32</td>\n",
       "      <td>0.00</td>\n",
       "      <td>0.00</td>\n",
       "      <td>0.00</td>\n",
       "      <td>0.00</td>\n",
       "      <td>0.00</td>\n",
       "      <td>...</td>\n",
       "      <td>0.151841</td>\n",
       "      <td>6.025115</td>\n",
       "      <td>5.561002</td>\n",
       "      <td>10.076847</td>\n",
       "      <td>2.965305</td>\n",
       "      <td>1.135276</td>\n",
       "      <td>2.899156</td>\n",
       "      <td>0.173810</td>\n",
       "      <td>2.128267</td>\n",
       "      <td>0.064742</td>\n",
       "    </tr>\n",
       "    <tr>\n",
       "      <th>1</th>\n",
       "      <td>0.21</td>\n",
       "      <td>0.28</td>\n",
       "      <td>0.50</td>\n",
       "      <td>0.0</td>\n",
       "      <td>0.14</td>\n",
       "      <td>0.28</td>\n",
       "      <td>0.21</td>\n",
       "      <td>0.07</td>\n",
       "      <td>0.00</td>\n",
       "      <td>0.94</td>\n",
       "      <td>...</td>\n",
       "      <td>0.085323</td>\n",
       "      <td>8.452674</td>\n",
       "      <td>5.477507</td>\n",
       "      <td>10.472582</td>\n",
       "      <td>2.594585</td>\n",
       "      <td>1.305323</td>\n",
       "      <td>2.924420</td>\n",
       "      <td>0.147157</td>\n",
       "      <td>2.215821</td>\n",
       "      <td>0.068813</td>\n",
       "    </tr>\n",
       "    <tr>\n",
       "      <th>2</th>\n",
       "      <td>0.06</td>\n",
       "      <td>0.00</td>\n",
       "      <td>0.71</td>\n",
       "      <td>0.0</td>\n",
       "      <td>1.23</td>\n",
       "      <td>0.19</td>\n",
       "      <td>0.19</td>\n",
       "      <td>0.12</td>\n",
       "      <td>0.64</td>\n",
       "      <td>0.25</td>\n",
       "      <td>...</td>\n",
       "      <td>0.105956</td>\n",
       "      <td>6.031863</td>\n",
       "      <td>6.545417</td>\n",
       "      <td>9.134362</td>\n",
       "      <td>3.231211</td>\n",
       "      <td>1.114674</td>\n",
       "      <td>2.834654</td>\n",
       "      <td>0.146050</td>\n",
       "      <td>1.622453</td>\n",
       "      <td>0.082799</td>\n",
       "    </tr>\n",
       "    <tr>\n",
       "      <th>3</th>\n",
       "      <td>0.00</td>\n",
       "      <td>0.00</td>\n",
       "      <td>0.00</td>\n",
       "      <td>0.0</td>\n",
       "      <td>0.63</td>\n",
       "      <td>0.00</td>\n",
       "      <td>0.31</td>\n",
       "      <td>0.63</td>\n",
       "      <td>0.31</td>\n",
       "      <td>0.63</td>\n",
       "      <td>...</td>\n",
       "      <td>0.103169</td>\n",
       "      <td>6.069449</td>\n",
       "      <td>6.318278</td>\n",
       "      <td>13.330856</td>\n",
       "      <td>3.446722</td>\n",
       "      <td>1.082342</td>\n",
       "      <td>2.900294</td>\n",
       "      <td>0.167818</td>\n",
       "      <td>2.201456</td>\n",
       "      <td>0.089043</td>\n",
       "    </tr>\n",
       "    <tr>\n",
       "      <th>4</th>\n",
       "      <td>0.00</td>\n",
       "      <td>0.00</td>\n",
       "      <td>0.00</td>\n",
       "      <td>0.0</td>\n",
       "      <td>0.63</td>\n",
       "      <td>0.00</td>\n",
       "      <td>0.31</td>\n",
       "      <td>0.63</td>\n",
       "      <td>0.31</td>\n",
       "      <td>0.63</td>\n",
       "      <td>...</td>\n",
       "      <td>0.150453</td>\n",
       "      <td>6.523384</td>\n",
       "      <td>4.379706</td>\n",
       "      <td>8.550212</td>\n",
       "      <td>2.852159</td>\n",
       "      <td>1.043007</td>\n",
       "      <td>2.919178</td>\n",
       "      <td>0.167830</td>\n",
       "      <td>2.224477</td>\n",
       "      <td>0.077263</td>\n",
       "    </tr>\n",
       "    <tr>\n",
       "      <th>...</th>\n",
       "      <td>...</td>\n",
       "      <td>...</td>\n",
       "      <td>...</td>\n",
       "      <td>...</td>\n",
       "      <td>...</td>\n",
       "      <td>...</td>\n",
       "      <td>...</td>\n",
       "      <td>...</td>\n",
       "      <td>...</td>\n",
       "      <td>...</td>\n",
       "      <td>...</td>\n",
       "      <td>...</td>\n",
       "      <td>...</td>\n",
       "      <td>...</td>\n",
       "      <td>...</td>\n",
       "      <td>...</td>\n",
       "      <td>...</td>\n",
       "      <td>...</td>\n",
       "      <td>...</td>\n",
       "      <td>...</td>\n",
       "      <td>...</td>\n",
       "    </tr>\n",
       "    <tr>\n",
       "      <th>4596</th>\n",
       "      <td>0.31</td>\n",
       "      <td>0.00</td>\n",
       "      <td>0.62</td>\n",
       "      <td>0.0</td>\n",
       "      <td>0.00</td>\n",
       "      <td>0.31</td>\n",
       "      <td>0.00</td>\n",
       "      <td>0.00</td>\n",
       "      <td>0.00</td>\n",
       "      <td>0.00</td>\n",
       "      <td>...</td>\n",
       "      <td>0.134810</td>\n",
       "      <td>6.969425</td>\n",
       "      <td>6.506657</td>\n",
       "      <td>9.083878</td>\n",
       "      <td>2.806490</td>\n",
       "      <td>1.112342</td>\n",
       "      <td>2.332016</td>\n",
       "      <td>0.181148</td>\n",
       "      <td>2.103606</td>\n",
       "      <td>0.073661</td>\n",
       "    </tr>\n",
       "    <tr>\n",
       "      <th>4597</th>\n",
       "      <td>0.00</td>\n",
       "      <td>0.00</td>\n",
       "      <td>0.00</td>\n",
       "      <td>0.0</td>\n",
       "      <td>0.00</td>\n",
       "      <td>0.00</td>\n",
       "      <td>0.00</td>\n",
       "      <td>0.00</td>\n",
       "      <td>0.00</td>\n",
       "      <td>0.00</td>\n",
       "      <td>...</td>\n",
       "      <td>0.111216</td>\n",
       "      <td>7.582056</td>\n",
       "      <td>6.039642</td>\n",
       "      <td>12.205701</td>\n",
       "      <td>3.320295</td>\n",
       "      <td>1.061620</td>\n",
       "      <td>2.871755</td>\n",
       "      <td>0.169963</td>\n",
       "      <td>2.142562</td>\n",
       "      <td>0.069837</td>\n",
       "    </tr>\n",
       "    <tr>\n",
       "      <th>4598</th>\n",
       "      <td>0.30</td>\n",
       "      <td>0.00</td>\n",
       "      <td>0.30</td>\n",
       "      <td>0.0</td>\n",
       "      <td>0.00</td>\n",
       "      <td>0.00</td>\n",
       "      <td>0.00</td>\n",
       "      <td>0.00</td>\n",
       "      <td>0.00</td>\n",
       "      <td>0.00</td>\n",
       "      <td>...</td>\n",
       "      <td>0.114570</td>\n",
       "      <td>6.273710</td>\n",
       "      <td>5.027087</td>\n",
       "      <td>6.340193</td>\n",
       "      <td>3.121744</td>\n",
       "      <td>1.373705</td>\n",
       "      <td>2.687749</td>\n",
       "      <td>0.152428</td>\n",
       "      <td>2.141778</td>\n",
       "      <td>0.070005</td>\n",
       "    </tr>\n",
       "    <tr>\n",
       "      <th>4599</th>\n",
       "      <td>0.96</td>\n",
       "      <td>0.00</td>\n",
       "      <td>0.00</td>\n",
       "      <td>0.0</td>\n",
       "      <td>0.32</td>\n",
       "      <td>0.00</td>\n",
       "      <td>0.00</td>\n",
       "      <td>0.00</td>\n",
       "      <td>0.00</td>\n",
       "      <td>0.00</td>\n",
       "      <td>...</td>\n",
       "      <td>0.107181</td>\n",
       "      <td>6.327586</td>\n",
       "      <td>6.484284</td>\n",
       "      <td>9.233690</td>\n",
       "      <td>3.388902</td>\n",
       "      <td>1.119013</td>\n",
       "      <td>3.374184</td>\n",
       "      <td>0.183389</td>\n",
       "      <td>2.721075</td>\n",
       "      <td>0.078867</td>\n",
       "    </tr>\n",
       "    <tr>\n",
       "      <th>4600</th>\n",
       "      <td>0.00</td>\n",
       "      <td>0.00</td>\n",
       "      <td>0.65</td>\n",
       "      <td>0.0</td>\n",
       "      <td>0.00</td>\n",
       "      <td>0.00</td>\n",
       "      <td>0.00</td>\n",
       "      <td>0.00</td>\n",
       "      <td>0.00</td>\n",
       "      <td>0.00</td>\n",
       "      <td>...</td>\n",
       "      <td>0.111445</td>\n",
       "      <td>7.299427</td>\n",
       "      <td>6.929401</td>\n",
       "      <td>8.685242</td>\n",
       "      <td>3.007043</td>\n",
       "      <td>1.108613</td>\n",
       "      <td>2.755730</td>\n",
       "      <td>0.166735</td>\n",
       "      <td>2.058650</td>\n",
       "      <td>0.070982</td>\n",
       "    </tr>\n",
       "  </tbody>\n",
       "</table>\n",
       "<p>4601 rows × 85 columns</p>\n",
       "</div>"
      ],
      "text/plain": [
       "      word_freq_make  word_freq_address  word_freq_all  word_freq_3d  \\\n",
       "0               0.00               0.64           0.64           0.0   \n",
       "1               0.21               0.28           0.50           0.0   \n",
       "2               0.06               0.00           0.71           0.0   \n",
       "3               0.00               0.00           0.00           0.0   \n",
       "4               0.00               0.00           0.00           0.0   \n",
       "...              ...                ...            ...           ...   \n",
       "4596            0.31               0.00           0.62           0.0   \n",
       "4597            0.00               0.00           0.00           0.0   \n",
       "4598            0.30               0.00           0.30           0.0   \n",
       "4599            0.96               0.00           0.00           0.0   \n",
       "4600            0.00               0.00           0.65           0.0   \n",
       "\n",
       "      word_freq_our  word_freq_over  word_freq_remove  word_freq_internet  \\\n",
       "0              0.32            0.00              0.00                0.00   \n",
       "1              0.14            0.28              0.21                0.07   \n",
       "2              1.23            0.19              0.19                0.12   \n",
       "3              0.63            0.00              0.31                0.63   \n",
       "4              0.63            0.00              0.31                0.63   \n",
       "...             ...             ...               ...                 ...   \n",
       "4596           0.00            0.31              0.00                0.00   \n",
       "4597           0.00            0.00              0.00                0.00   \n",
       "4598           0.00            0.00              0.00                0.00   \n",
       "4599           0.32            0.00              0.00                0.00   \n",
       "4600           0.00            0.00              0.00                0.00   \n",
       "\n",
       "      word_freq_order  word_freq_mail  ...  char_freq_q  char_freq_r  \\\n",
       "0                0.00            0.00  ...     0.151841     6.025115   \n",
       "1                0.00            0.94  ...     0.085323     8.452674   \n",
       "2                0.64            0.25  ...     0.105956     6.031863   \n",
       "3                0.31            0.63  ...     0.103169     6.069449   \n",
       "4                0.31            0.63  ...     0.150453     6.523384   \n",
       "...               ...             ...  ...          ...          ...   \n",
       "4596             0.00            0.00  ...     0.134810     6.969425   \n",
       "4597             0.00            0.00  ...     0.111216     7.582056   \n",
       "4598             0.00            0.00  ...     0.114570     6.273710   \n",
       "4599             0.00            0.00  ...     0.107181     6.327586   \n",
       "4600             0.00            0.00  ...     0.111445     7.299427   \n",
       "\n",
       "      char_freq_s  char_freq_t  char_freq_u  char_freq_v  char_freq_w  \\\n",
       "0        5.561002    10.076847     2.965305     1.135276     2.899156   \n",
       "1        5.477507    10.472582     2.594585     1.305323     2.924420   \n",
       "2        6.545417     9.134362     3.231211     1.114674     2.834654   \n",
       "3        6.318278    13.330856     3.446722     1.082342     2.900294   \n",
       "4        4.379706     8.550212     2.852159     1.043007     2.919178   \n",
       "...           ...          ...          ...          ...          ...   \n",
       "4596     6.506657     9.083878     2.806490     1.112342     2.332016   \n",
       "4597     6.039642    12.205701     3.320295     1.061620     2.871755   \n",
       "4598     5.027087     6.340193     3.121744     1.373705     2.687749   \n",
       "4599     6.484284     9.233690     3.388902     1.119013     3.374184   \n",
       "4600     6.929401     8.685242     3.007043     1.108613     2.755730   \n",
       "\n",
       "      char_freq_x  char_freq_y  char_freq_z  \n",
       "0        0.173810     2.128267     0.064742  \n",
       "1        0.147157     2.215821     0.068813  \n",
       "2        0.146050     1.622453     0.082799  \n",
       "3        0.167818     2.201456     0.089043  \n",
       "4        0.167830     2.224477     0.077263  \n",
       "...           ...          ...          ...  \n",
       "4596     0.181148     2.103606     0.073661  \n",
       "4597     0.169963     2.142562     0.069837  \n",
       "4598     0.152428     2.141778     0.070005  \n",
       "4599     0.183389     2.721075     0.078867  \n",
       "4600     0.166735     2.058650     0.070982  \n",
       "\n",
       "[4601 rows x 85 columns]"
      ]
     },
     "execution_count": 85,
     "metadata": {},
     "output_type": "execute_result"
    }
   ],
   "source": [
    "df"
   ]
  },
  {
   "cell_type": "code",
   "execution_count": 86,
   "metadata": {
    "ExecuteTime": {
     "end_time": "2020-03-19T15:50:24.288099Z",
     "start_time": "2020-03-19T15:50:24.284677Z"
    }
   },
   "outputs": [],
   "source": [
    "X = df"
   ]
  },
  {
   "cell_type": "code",
   "execution_count": 87,
   "metadata": {
    "ExecuteTime": {
     "end_time": "2020-03-19T15:50:24.848816Z",
     "start_time": "2020-03-19T15:50:24.836103Z"
    }
   },
   "outputs": [
    {
     "data": {
      "text/plain": [
       "0    0.605955\n",
       "1    0.394045\n",
       "Name: is_spam, dtype: float64"
      ]
     },
     "execution_count": 87,
     "metadata": {},
     "output_type": "execute_result"
    }
   ],
   "source": [
    "y = X.pop('is_spam')\n",
    "y.value_counts(normalize=True)"
   ]
  },
  {
   "cell_type": "code",
   "execution_count": 88,
   "metadata": {
    "ExecuteTime": {
     "end_time": "2020-03-19T15:51:03.758918Z",
     "start_time": "2020-03-19T15:50:34.806164Z"
    }
   },
   "outputs": [
    {
     "name": "stdout",
     "output_type": "stream",
     "text": [
      "\n",
      " \u001b[1mK Neighbors Model Test\n",
      "Model Score:\u001b[0m 0.9274 - better than baseline by 0.3214 \u001b[1m\n",
      "CV Fold Score:\u001b[0m 0.9051 - better than baseline by 0.2991 \u001b[1m\n",
      "Model Test Score:\u001b[0m 0.932 - better than baseline by 0.326\n",
      "Time Elapsed =  3.81 secs - grid will take ~ 114.26 minutes to run.\n",
      "Run .knn_all_k() to run all possible k values and find best k value.\n",
      "\n",
      " \u001b[1mDecision Tree Model Test\n",
      "Model Score:\u001b[0m 1.0 - better than baseline by 0.394 \u001b[1m\n",
      "CV Fold Score:\u001b[0m 1.0 - better than baseline by 0.394 \u001b[1m\n",
      "Model Test Score:\u001b[0m 1.0 - better than baseline by 0.394\n",
      "Time Elapsed =  0.12 secs - grid will take ~ 5.76 minutes to run.\n",
      "\n",
      " \u001b[1mLogistic Regression Model Test\n",
      "Model Score:\u001b[0m 0.9982 - better than baseline by 0.3922 \u001b[1m\n",
      "CV Fold Score:\u001b[0m 0.9918 - better than baseline by 0.3858 \u001b[1m\n",
      "Model Test Score:\u001b[0m 0.9957 - better than baseline by 0.3897\n",
      "Time Elapsed =  0.17 secs - grid will take ~ 5.08 minutes to run.\n",
      "Run .coefs() to see coef dataframe\n",
      "\n",
      " \u001b[1mRandom Forest Model Test\n",
      "Model Score:\u001b[0m 1.0 - better than baseline by 0.394 \u001b[1m\n",
      "CV Fold Score:\u001b[0m 1.0 - better than baseline by 0.394 \u001b[1m\n",
      "Model Test Score:\u001b[0m 1.0 - better than baseline by 0.394\n",
      "Time Elapsed =  4.57 secs - grid will take ~ 43.44 minutes to run.\n",
      "\n",
      " \u001b[1mADA Boosting Model Test\n",
      "Model Score:\u001b[0m 1.0 - better than baseline by 0.394 \u001b[1m\n",
      "CV Fold Score:\u001b[0m 1.0 - better than baseline by 0.394 \u001b[1m\n",
      "Model Test Score:\u001b[0m 1.0 - better than baseline by 0.394\n",
      "Time Elapsed =  0.13 secs - grid will take ~ 0.32 minutes to run.\n",
      "\n",
      " \u001b[1mGradient Boosting Model Test\n",
      "Model Score:\u001b[0m 1.0 - better than baseline by 0.394 \u001b[1m\n",
      "CV Fold Score:\u001b[0m 1.0 - better than baseline by 0.394 \u001b[1m\n",
      "Model Test Score:\u001b[0m 1.0 - better than baseline by 0.394\n",
      "Time Elapsed =  6.16 secs - grid will take ~ 15.41 minutes to run.\n",
      "\n",
      " \u001b[1mNaive Bayes Model Test\n",
      "Model Score:\u001b[0m 0.8376 - better than baseline by 0.2316 \u001b[1m\n",
      "CV Fold Score:\u001b[0m 0.8297 - better than baseline by 0.2237 \u001b[1m\n",
      "Model Test Score:\u001b[0m 0.848 - better than baseline by 0.242\n",
      "Time Elapsed =  0.05 secs - grid will take ~ 0.13 minutes to run.\n",
      "\n",
      " \u001b[1mLinear Support Vectors Model Test\n",
      "Model Score:\u001b[0m 0.9995 - better than baseline by 0.3935 \u001b[1m\n",
      "CV Fold Score:\u001b[0m 0.99 - better than baseline by 0.384 \u001b[1m\n",
      "Model Test Score:\u001b[0m 0.9957 - better than baseline by 0.3897\n",
      "Time Elapsed =  0.22 secs - grid will take ~ 0.11 minutes to run.\n",
      "\n",
      " \u001b[1mPolynomial Support Vectors Model Test\n",
      "Model Score:\u001b[0m 1.0 - better than baseline by 0.394 \u001b[1m\n",
      "CV Fold Score:\u001b[0m 0.9847 - better than baseline by 0.3787 \u001b[1m\n",
      "Model Test Score:\u001b[0m 0.9855 - better than baseline by 0.3795\n",
      "Time Elapsed =  1.23 secs - grid will take ~ 5.54 minutes to run.\n",
      "\n",
      " \u001b[1mGaussian (rbf) Support Vectors Model Test\n",
      "Model Score:\u001b[0m 0.61 - better than baseline by 0.004 \u001b[1m\n",
      "CV Fold Score:\u001b[0m 0.61 - better than baseline by 0.004 \u001b[1m\n",
      "Model Test Score:\u001b[0m 0.5832 - better than baseline by -0.0228\n",
      "Time Elapsed =  12.46 secs - grid will take ~ 186.97 minutes to run.\n"
     ]
    }
   ],
   "source": [
    "test_model = full_classification(X,y,baseline=0.606)"
   ]
  },
  {
   "cell_type": "code",
   "execution_count": 89,
   "metadata": {
    "ExecuteTime": {
     "end_time": "2020-03-19T15:51:23.986527Z",
     "start_time": "2020-03-19T15:51:20.109447Z"
    }
   },
   "outputs": [
    {
     "name": "stdout",
     "output_type": "stream",
     "text": [
      "\n",
      " \u001b[1mK Neighbors Model Test\n",
      "Model Score:\u001b[0m 0.9274 - better than baseline by 0.3214 \u001b[1m\n",
      "CV Fold Score:\u001b[0m 0.9051 - better than baseline by 0.2991 \u001b[1m\n",
      "Model Test Score:\u001b[0m 0.932 - better than baseline by 0.326\n",
      "Time Elapsed =  3.87 secs - grid will take ~ 116.2 minutes to run.\n",
      "Run .knn_all_k() to run all possible k values and find best k value.\n"
     ]
    }
   ],
   "source": [
    "test_model.knn_model()"
   ]
  },
  {
   "cell_type": "code",
   "execution_count": 90,
   "metadata": {
    "ExecuteTime": {
     "end_time": "2020-03-19T16:03:22.156730Z",
     "start_time": "2020-03-19T15:51:24.061301Z"
    }
   },
   "outputs": [
    {
     "name": "stdout",
     "output_type": "stream",
     "text": [
      "\u001b[1mHighest KNN Score:\u001b[0m 9\n"
     ]
    },
    {
     "data": {
      "image/png": "[encoded data removed]",
      "text/plain": [
       "<Figure size 432x288 with 1 Axes>"
      ]
     },
     "metadata": {
      "image/png": {
       "height": 280,
       "width": 619
      },
      "needs_background": "light"
     },
     "output_type": "display_data"
    }
   ],
   "source": [
    "test_model.knn_all_k()"
   ]
  },
  {
   "cell_type": "code",
   "execution_count": 91,
   "metadata": {
    "ExecuteTime": {
     "end_time": "2020-03-19T16:05:15.771140Z",
     "start_time": "2020-03-19T16:03:22.229717Z"
    }
   },
   "outputs": [
    {
     "name": "stdout",
     "output_type": "stream",
     "text": [
      "Fitting 6 folds for each of 76 candidates, totalling 456 fits\n"
     ]
    },
    {
     "name": "stderr",
     "output_type": "stream",
     "text": [
      "[Parallel(n_jobs=1)]: Using backend SequentialBackend with 1 concurrent workers.\n",
      "[Parallel(n_jobs=1)]: Done 456 out of 456 | elapsed:  1.9min finished\n"
     ]
    },
    {
     "name": "stdout",
     "output_type": "stream",
     "text": [
      "\u001b[1mK Neighbors Model Grid Search:\u001b[0m\n",
      "\u001b[1mBest Mean CV Model Score:\u001b[0m 0.9304 - which is better than baseline by 0.3244 \u001b[1m\n",
      "Model Test Score:\u001b[0m 0.919 - better than baseline by 0.313\n",
      "\u001b[1mGrid Best Parameters:\n",
      "\u001b[0m {'n_neighbors': 4, 'p': 1, 'weights': 'distance'}\n",
      "\u001b[1m\n",
      "Search Parameters:\n",
      "\u001b[0m {'n_neighbors': range(1, 20), 'weights': ['uniform', 'distance'], 'p': [1, 2]}\n"
     ]
    }
   ],
   "source": [
    "test_model.gridsearch()"
   ]
  },
  {
   "cell_type": "code",
   "execution_count": 92,
   "metadata": {
    "ExecuteTime": {
     "end_time": "2020-03-19T16:05:16.056151Z",
     "start_time": "2020-03-19T16:05:15.934435Z"
    }
   },
   "outputs": [
    {
     "name": "stdout",
     "output_type": "stream",
     "text": [
      "\n",
      " \u001b[1mDecision Tree Model Test\n",
      "Model Score:\u001b[0m 1.0 - better than baseline by 0.394 \u001b[1m\n",
      "CV Fold Score:\u001b[0m 1.0 - better than baseline by 0.394 \u001b[1m\n",
      "Model Test Score:\u001b[0m 1.0 - better than baseline by 0.394\n",
      "Time Elapsed =  0.12 secs - grid will take ~ 5.91 minutes to run.\n"
     ]
    }
   ],
   "source": [
    "test_model.decision_tree_model()"
   ]
  },
  {
   "cell_type": "code",
   "execution_count": 93,
   "metadata": {
    "ExecuteTime": {
     "end_time": "2020-03-19T16:06:25.024551Z",
     "start_time": "2020-03-19T16:05:16.125261Z"
    }
   },
   "outputs": [
    {
     "name": "stdout",
     "output_type": "stream",
     "text": [
      "Fitting 6 folds for each of 1280 candidates, totalling 7680 fits\n"
     ]
    },
    {
     "name": "stderr",
     "output_type": "stream",
     "text": [
      "[Parallel(n_jobs=1)]: Using backend SequentialBackend with 1 concurrent workers.\n"
     ]
    },
    {
     "name": "stdout",
     "output_type": "stream",
     "text": [
      "\u001b[1mDecision Tree Model Grid Search:\u001b[0m\n",
      "\u001b[1mBest Mean CV Model Score:\u001b[0m 0.9711 - which is better than baseline by 0.3651 \u001b[1m\n",
      "Model Test Score:\u001b[0m 0.9566 - better than baseline by 0.3506\n",
      "\u001b[1mGrid Best Parameters:\n",
      "\u001b[0m {'ccp_alpha': 0.001, 'class_weight': 'balanced', 'criterion': 'gini', 'max_depth': None, 'max_features': 'auto', 'min_samples_split': 4, 'splitter': 'best'}\n",
      "\u001b[1m\n",
      "Search Parameters:\n",
      "\u001b[0m {'criterion': ['gini', 'entropy'], 'max_depth': [None, 5, 6, 7, 8], 'max_features': ['auto'], 'splitter': ['best', 'random'], 'min_samples_split': [2, 3, 4, 5], 'ccp_alpha': [0.0, 0.0001, 0.001, 0.01, 0.1, 1, 10, 100], 'class_weight': [None, 'balanced']}\n"
     ]
    },
    {
     "name": "stderr",
     "output_type": "stream",
     "text": [
      "[Parallel(n_jobs=1)]: Done 7680 out of 7680 | elapsed:  1.1min finished\n"
     ]
    }
   ],
   "source": [
    "test_model.gridsearch()"
   ]
  },
  {
   "cell_type": "code",
   "execution_count": 94,
   "metadata": {
    "ExecuteTime": {
     "end_time": "2020-03-19T16:06:25.275706Z",
     "start_time": "2020-03-19T16:06:25.098283Z"
    }
   },
   "outputs": [
    {
     "name": "stdout",
     "output_type": "stream",
     "text": [
      "\n",
      " \u001b[1mLogistic Regression Model Test\n",
      "Model Score:\u001b[0m 0.9982 - better than baseline by 0.3922 \u001b[1m\n",
      "CV Fold Score:\u001b[0m 0.9918 - better than baseline by 0.3858 \u001b[1m\n",
      "Model Test Score:\u001b[0m 0.9957 - better than baseline by 0.3897\n",
      "Time Elapsed =  0.17 secs - grid will take ~ 5.22 minutes to run.\n",
      "Run .coefs() to see coef dataframe\n"
     ]
    }
   ],
   "source": [
    "test_model.logistic_model()"
   ]
  },
  {
   "cell_type": "code",
   "execution_count": 95,
   "metadata": {
    "ExecuteTime": {
     "end_time": "2020-03-19T16:07:40.347023Z",
     "start_time": "2020-03-19T16:06:25.377387Z"
    }
   },
   "outputs": [
    {
     "name": "stdout",
     "output_type": "stream",
     "text": [
      "Fitting 6 folds for each of 60 candidates, totalling 360 fits\n"
     ]
    },
    {
     "name": "stderr",
     "output_type": "stream",
     "text": [
      "[Parallel(n_jobs=1)]: Using backend SequentialBackend with 1 concurrent workers.\n",
      "[Parallel(n_jobs=1)]: Done 360 out of 360 | elapsed:  1.2min finished\n"
     ]
    },
    {
     "name": "stdout",
     "output_type": "stream",
     "text": [
      "\u001b[1mLogistic Regression Model Grid Search:\u001b[0m\n",
      "\u001b[1mBest Mean CV Model Score:\u001b[0m 0.9903 - which is better than baseline by 0.3843 \u001b[1m\n",
      "Model Test Score:\u001b[0m 0.9913 - better than baseline by 0.3853\n",
      "\u001b[1mGrid Best Parameters:\n",
      "\u001b[0m {'C': 0.0031622776601683794, 'l1_ratio': 0.0001, 'penalty': 'l1', 'solver': 'saga'}\n",
      "\u001b[1m\n",
      "Search Parameters:\n",
      "\u001b[0m {'penalty': ['l1', 'l2', 'elasticnet'], 'solver': ['saga'], 'C': array([1.00000000e-05, 3.16227766e-03, 1.00000000e+00, 3.16227766e+02,\n",
      "       1.00000000e+05]), 'l1_ratio': array([1.000e-04, 3.334e-01, 6.667e-01, 1.000e+00])}\n"
     ]
    }
   ],
   "source": [
    "test_model.gridsearch()"
   ]
  },
  {
   "cell_type": "code",
   "execution_count": 96,
   "metadata": {
    "ExecuteTime": {
     "end_time": "2020-03-19T16:07:44.935579Z",
     "start_time": "2020-03-19T16:07:40.429139Z"
    }
   },
   "outputs": [
    {
     "name": "stdout",
     "output_type": "stream",
     "text": [
      "\n",
      " \u001b[1mRandom Forest Model Test\n",
      "Model Score:\u001b[0m 1.0 - better than baseline by 0.394 \u001b[1m\n",
      "CV Fold Score:\u001b[0m 1.0 - better than baseline by 0.394 \u001b[1m\n",
      "Model Test Score:\u001b[0m 1.0 - better than baseline by 0.394\n",
      "Time Elapsed =  4.5 secs - grid will take ~ 42.78 minutes to run.\n"
     ]
    }
   ],
   "source": [
    "test_model.random_forest_model()"
   ]
  },
  {
   "cell_type": "code",
   "execution_count": 97,
   "metadata": {
    "ExecuteTime": {
     "end_time": "2020-03-19T17:16:18.385050Z",
     "start_time": "2020-03-19T16:07:45.019831Z"
    }
   },
   "outputs": [
    {
     "name": "stdout",
     "output_type": "stream",
     "text": [
      "Fitting 6 folds for each of 288 candidates, totalling 1728 fits\n"
     ]
    },
    {
     "name": "stderr",
     "output_type": "stream",
     "text": [
      "[Parallel(n_jobs=1)]: Using backend SequentialBackend with 1 concurrent workers.\n",
      "[Parallel(n_jobs=1)]: Done 1728 out of 1728 | elapsed: 68.5min finished\n"
     ]
    },
    {
     "name": "stdout",
     "output_type": "stream",
     "text": [
      "\u001b[1mRandom Forest Model Grid Search:\u001b[0m\n",
      "\u001b[1mBest Mean CV Model Score:\u001b[0m 1.0 - which is better than baseline by 0.394 \u001b[1m\n",
      "Model Test Score:\u001b[0m 1.0 - better than baseline by 0.394\n",
      "\u001b[1mGrid Best Parameters:\n",
      "\u001b[0m {'ccp_alpha': 0.0, 'criterion': 'gini', 'max_depth': None, 'max_features': 'auto', 'min_samples_split': 2, 'n_estimators': 100, 'oob_score': True, 'warm_start': True}\n",
      "\u001b[1m\n",
      "Search Parameters:\n",
      "\u001b[0m {'n_estimators': [100, 200, 500], 'criterion': ['gini', 'entropy'], 'max_depth': [None], 'min_samples_split': [2, 6], 'max_features': ['auto', 'log2'], 'oob_score': [True, False], 'warm_start': [True, False], 'ccp_alpha': [0.0, 0.5, 1]}\n"
     ]
    }
   ],
   "source": [
    "test_model.gridsearch()"
   ]
  },
  {
   "cell_type": "code",
   "execution_count": 98,
   "metadata": {
    "ExecuteTime": {
     "end_time": "2020-03-19T17:16:18.677436Z",
     "start_time": "2020-03-19T17:16:18.508233Z"
    }
   },
   "outputs": [
    {
     "name": "stdout",
     "output_type": "stream",
     "text": [
      "\n",
      " \u001b[1mADA Boosting Model Test\n",
      "Model Score:\u001b[0m 1.0 - better than baseline by 0.394 \u001b[1m\n",
      "CV Fold Score:\u001b[0m 1.0 - better than baseline by 0.394 \u001b[1m\n",
      "Model Test Score:\u001b[0m 1.0 - better than baseline by 0.394\n",
      "Time Elapsed =  0.16 secs - grid will take ~ 0.41 minutes to run.\n"
     ]
    }
   ],
   "source": [
    "test_model.ADAboosting_model()"
   ]
  },
  {
   "cell_type": "code",
   "execution_count": 99,
   "metadata": {
    "ExecuteTime": {
     "end_time": "2020-03-19T17:16:31.304345Z",
     "start_time": "2020-03-19T17:16:18.786767Z"
    }
   },
   "outputs": [
    {
     "name": "stdout",
     "output_type": "stream",
     "text": [
      "Fitting 6 folds for each of 100 candidates, totalling 600 fits\n"
     ]
    },
    {
     "name": "stderr",
     "output_type": "stream",
     "text": [
      "[Parallel(n_jobs=1)]: Using backend SequentialBackend with 1 concurrent workers.\n"
     ]
    },
    {
     "name": "stdout",
     "output_type": "stream",
     "text": [
      "\u001b[1mADA Boosting Model Grid Search:\u001b[0m\n",
      "\u001b[1mBest Mean CV Model Score:\u001b[0m 1.0 - which is better than baseline by 0.394 \u001b[1m\n",
      "Model Test Score:\u001b[0m 1.0 - better than baseline by 0.394\n",
      "\u001b[1mGrid Best Parameters:\n",
      "\u001b[0m {'algorithm': 'SAMME', 'base_estimator': DecisionTreeClassifier(ccp_alpha=0.0, class_weight=None, criterion='gini',\n",
      "                       max_depth=1, max_features=None, max_leaf_nodes=None,\n",
      "                       min_impurity_decrease=0.0, min_impurity_split=None,\n",
      "                       min_samples_leaf=1, min_samples_split=2,\n",
      "                       min_weight_fraction_leaf=0.0, presort='deprecated',\n",
      "                       random_state=None, splitter='best'), 'learning_rate': 0.05, 'n_estimators': 100}\n",
      "\u001b[1m\n",
      "Search Parameters:\n",
      "\u001b[0m {'learning_rate': [0.05, 0.25, 0.5, 0.75, 1], 'base_estimator': [DecisionTreeClassifier(ccp_alpha=0.0, class_weight=None, criterion='gini',\n",
      "                       max_depth=1, max_features=None, max_leaf_nodes=None,\n",
      "                       min_impurity_decrease=0.0, min_impurity_split=None,\n",
      "                       min_samples_leaf=1, min_samples_split=2,\n",
      "                       min_weight_fraction_leaf=0.0, presort='deprecated',\n",
      "                       random_state=None, splitter='best'), DecisionTreeClassifier(ccp_alpha=0.0, class_weight=None, criterion='gini',\n",
      "                       max_depth=2, max_features=None, max_leaf_nodes=None,\n",
      "                       min_impurity_decrease=0.0, min_impurity_split=None,\n",
      "                       min_samples_leaf=1, min_samples_split=2,\n",
      "                       min_weight_fraction_leaf=0.0, presort='deprecated',\n",
      "                       random_state=None, splitter='best'), DecisionTreeClassifier(ccp_alpha=0.0, class_weight=None, criterion='gini',\n",
      "                       max_depth=3, max_features=None, max_leaf_nodes=None,\n",
      "                       min_impurity_decrease=0.0, min_impurity_split=None,\n",
      "                       min_samples_leaf=1, min_samples_split=2,\n",
      "                       min_weight_fraction_leaf=0.0, presort='deprecated',\n",
      "                       random_state=None, splitter='best'), DecisionTreeClassifier(ccp_alpha=0.0, class_weight=None, criterion='gini',\n",
      "                       max_depth=4, max_features=None, max_leaf_nodes=None,\n",
      "                       min_impurity_decrease=0.0, min_impurity_split=None,\n",
      "                       min_samples_leaf=1, min_samples_split=2,\n",
      "                       min_weight_fraction_leaf=0.0, presort='deprecated',\n",
      "                       random_state=None, splitter='best'), DecisionTreeClassifier(ccp_alpha=0.0, class_weight=None, criterion='gini',\n",
      "                       max_depth=5, max_features=None, max_leaf_nodes=None,\n",
      "                       min_impurity_decrease=0.0, min_impurity_split=None,\n",
      "                       min_samples_leaf=1, min_samples_split=2,\n",
      "                       min_weight_fraction_leaf=0.0, presort='deprecated',\n",
      "                       random_state=None, splitter='best')], 'algorithm': ['SAMME'], 'n_estimators': [100, 200, 500, 1000]}\n"
     ]
    },
    {
     "name": "stderr",
     "output_type": "stream",
     "text": [
      "[Parallel(n_jobs=1)]: Done 600 out of 600 | elapsed:   12.5s finished\n"
     ]
    }
   ],
   "source": [
    "test_model.gridsearch()"
   ]
  },
  {
   "cell_type": "code",
   "execution_count": 100,
   "metadata": {
    "ExecuteTime": {
     "end_time": "2020-03-19T17:16:31.700220Z",
     "start_time": "2020-03-19T17:16:31.398846Z"
    }
   },
   "outputs": [
    {
     "name": "stdout",
     "output_type": "stream",
     "text": [
      "\n",
      " \u001b[1mLinear Support Vectors Model Test\n",
      "Model Score:\u001b[0m 0.9992 - better than baseline by 0.3932 \u001b[1m\n",
      "CV Fold Score:\u001b[0m 0.9908 - better than baseline by 0.3848 \u001b[1m\n",
      "Model Test Score:\u001b[0m 0.9957 - better than baseline by 0.3897\n",
      "Time Elapsed =  0.29 secs - grid will take ~ 0.15 minutes to run.\n"
     ]
    }
   ],
   "source": [
    "test_model.LinearSVC()"
   ]
  },
  {
   "cell_type": "code",
   "execution_count": 101,
   "metadata": {
    "ExecuteTime": {
     "end_time": "2020-03-19T17:16:37.450267Z",
     "start_time": "2020-03-19T17:16:31.798407Z"
    }
   },
   "outputs": [
    {
     "name": "stdout",
     "output_type": "stream",
     "text": [
      "Fitting 6 folds for each of 40 candidates, totalling 240 fits\n"
     ]
    },
    {
     "name": "stderr",
     "output_type": "stream",
     "text": [
      "[Parallel(n_jobs=1)]: Using backend SequentialBackend with 1 concurrent workers.\n"
     ]
    },
    {
     "name": "stdout",
     "output_type": "stream",
     "text": [
      "\u001b[1mLinear Support Vectors Model Grid Search:\u001b[0m\n",
      "\u001b[1mBest Mean CV Model Score:\u001b[0m 0.9944 - which is better than baseline by 0.3884 \u001b[1m\n",
      "Model Test Score:\u001b[0m 0.9957 - better than baseline by 0.3897\n",
      "\u001b[1mGrid Best Parameters:\n",
      "\u001b[0m {'C': 0.5263157894736832, 'loss': 'squared_hinge'}\n",
      "\u001b[1m\n",
      "Search Parameters:\n",
      "\u001b[0m {'C': array([-10.        ,  -8.94736842,  -7.89473684,  -6.84210526,\n",
      "        -5.78947368,  -4.73684211,  -3.68421053,  -2.63157895,\n",
      "        -1.57894737,  -0.52631579,   0.52631579,   1.57894737,\n",
      "         2.63157895,   3.68421053,   4.73684211,   5.78947368,\n",
      "         6.84210526,   7.89473684,   8.94736842,  10.        ]), 'loss': ['hinge', 'squared_hinge']}\n"
     ]
    },
    {
     "name": "stderr",
     "output_type": "stream",
     "text": [
      "[Parallel(n_jobs=1)]: Done 240 out of 240 | elapsed:    5.6s finished\n"
     ]
    }
   ],
   "source": [
    "test_model.gridsearch()"
   ]
  },
  {
   "cell_type": "code",
   "execution_count": 102,
   "metadata": {
    "ExecuteTime": {
     "end_time": "2020-03-19T17:16:39.354300Z",
     "start_time": "2020-03-19T17:16:37.553884Z"
    }
   },
   "outputs": [
    {
     "name": "stdout",
     "output_type": "stream",
     "text": [
      "\n",
      " \u001b[1mPolynomial Support Vectors Model Test\n",
      "Model Score:\u001b[0m 1.0 - better than baseline by 0.394 \u001b[1m\n",
      "CV Fold Score:\u001b[0m 0.9847 - better than baseline by 0.3787 \u001b[1m\n",
      "Model Test Score:\u001b[0m 0.9855 - better than baseline by 0.3795\n",
      "Time Elapsed =  1.8 secs - grid will take ~ 8.09 minutes to run.\n"
     ]
    }
   ],
   "source": [
    "test_model.PolynomialSVC()"
   ]
  },
  {
   "cell_type": "code",
   "execution_count": 103,
   "metadata": {
    "ExecuteTime": {
     "end_time": "2020-03-19T17:19:59.485195Z",
     "start_time": "2020-03-19T17:16:39.467364Z"
    }
   },
   "outputs": [
    {
     "name": "stdout",
     "output_type": "stream",
     "text": [
      "Fitting 6 folds for each of 270 candidates, totalling 1620 fits\n"
     ]
    },
    {
     "name": "stderr",
     "output_type": "stream",
     "text": [
      "[Parallel(n_jobs=1)]: Using backend SequentialBackend with 1 concurrent workers.\n"
     ]
    },
    {
     "name": "stdout",
     "output_type": "stream",
     "text": [
      "\u001b[1mPolynomial Support Vectors Model Grid Search:\u001b[0m\n",
      "\u001b[1mBest Mean CV Model Score:\u001b[0m 0.9921 - which is better than baseline by 0.3861 \u001b[1m\n",
      "Model Test Score:\u001b[0m 0.9942 - better than baseline by 0.3882\n",
      "\u001b[1mGrid Best Parameters:\n",
      "\u001b[0m {'C': 2.8571428571428577, 'coef0': 10, 'degree': 2, 'kernel': 'poly'}\n",
      "\u001b[1m\n",
      "Search Parameters:\n",
      "\u001b[0m {'C': array([-10.        ,  -8.57142857,  -7.14285714,  -5.71428571,\n",
      "        -4.28571429,  -2.85714286,  -1.42857143,   0.        ,\n",
      "         1.42857143,   2.85714286,   4.28571429,   5.71428571,\n",
      "         7.14285714,   8.57142857,  10.        ]), 'coef0': [0, 1, 2, 3, 4, 10], 'kernel': ['poly'], 'degree': [2, 3, 4]}\n"
     ]
    },
    {
     "name": "stderr",
     "output_type": "stream",
     "text": [
      "[Parallel(n_jobs=1)]: Done 1620 out of 1620 | elapsed:  3.3min finished\n"
     ]
    }
   ],
   "source": [
    "test_model.gridsearch()"
   ]
  },
  {
   "cell_type": "code",
   "execution_count": 104,
   "metadata": {
    "ExecuteTime": {
     "end_time": "2020-03-19T17:20:13.301828Z",
     "start_time": "2020-03-19T17:19:59.568752Z"
    }
   },
   "outputs": [
    {
     "name": "stdout",
     "output_type": "stream",
     "text": [
      "\n",
      " \u001b[1mGaussian (rbf) Support Vectors Model Test\n",
      "Model Score:\u001b[0m 0.61 - better than baseline by 0.004 \u001b[1m\n",
      "CV Fold Score:\u001b[0m 0.61 - better than baseline by 0.004 \u001b[1m\n",
      "Model Test Score:\u001b[0m 0.5832 - better than baseline by -0.0228\n",
      "Time Elapsed =  13.73 secs - grid will take ~ 205.92 minutes to run.\n"
     ]
    }
   ],
   "source": [
    "test_model.GaussianSVC()"
   ]
  },
  {
   "cell_type": "code",
   "execution_count": 105,
   "metadata": {
    "ExecuteTime": {
     "end_time": "2020-03-19T17:35:52.601652Z",
     "start_time": "2020-03-19T17:20:13.389082Z"
    }
   },
   "outputs": [
    {
     "name": "stdout",
     "output_type": "stream",
     "text": [
      "Fitting 6 folds for each of 225 candidates, totalling 1350 fits\n"
     ]
    },
    {
     "name": "stderr",
     "output_type": "stream",
     "text": [
      "[Parallel(n_jobs=1)]: Using backend SequentialBackend with 1 concurrent workers.\n",
      "[Parallel(n_jobs=1)]: Done 1350 out of 1350 | elapsed: 15.6min finished\n"
     ]
    },
    {
     "name": "stdout",
     "output_type": "stream",
     "text": [
      "\u001b[1mGaussian (rbf) Support Vectors Model Grid Search:\u001b[0m\n",
      "\u001b[1mBest Mean CV Model Score:\u001b[0m 0.9322 - which is better than baseline by 0.3262 \u001b[1m\n",
      "Model Test Score:\u001b[0m 0.9508 - better than baseline by 0.3448\n",
      "\u001b[1mGrid Best Parameters:\n",
      "\u001b[0m {'C': 10.0, 'gamma': 1e-05, 'kernel': 'rbf'}\n",
      "\u001b[1m\n",
      "Search Parameters:\n",
      "\u001b[0m {'C': array([-10.        ,  -8.57142857,  -7.14285714,  -5.71428571,\n",
      "        -4.28571429,  -2.85714286,  -1.42857143,   0.        ,\n",
      "         1.42857143,   2.85714286,   4.28571429,   5.71428571,\n",
      "         7.14285714,   8.57142857,  10.        ]), 'gamma': array([1.00000000e-05, 7.14286643e+00, 1.42857229e+01, 2.14285793e+01,\n",
      "       2.85714357e+01, 3.57142921e+01, 4.28571486e+01, 5.00000050e+01,\n",
      "       5.71428614e+01, 6.42857179e+01, 7.14285743e+01, 7.85714307e+01,\n",
      "       8.57142871e+01, 9.28571436e+01, 1.00000000e+02]), 'kernel': ['rbf']}\n"
     ]
    }
   ],
   "source": [
    "test_model.gridsearch()"
   ]
  },
  {
   "cell_type": "code",
   "execution_count": null,
   "metadata": {},
   "outputs": [],
   "source": []
  }
 ],
 "metadata": {
  "kernelspec": {
   "display_name": "Python 3",
   "language": "python",
   "name": "python3"
  },
  "language_info": {
   "codemirror_mode": {
    "name": "ipython",
    "version": 3
   },
   "file_extension": ".py",
   "mimetype": "text/x-python",
   "name": "python",
   "nbconvert_exporter": "python",
   "pygments_lexer": "ipython3",
   "version": "3.7.1"
  },
  "varInspector": {
   "cols": {
    "lenName": 16,
    "lenType": 16,
    "lenVar": 40
   },
   "kernels_config": {
    "python": {
     "delete_cmd_postfix": "",
     "delete_cmd_prefix": "del ",
     "library": "var_list.py",
     "varRefreshCmd": "print(var_dic_list())"
    },
    "r": {
     "delete_cmd_postfix": ") ",
     "delete_cmd_prefix": "rm(",
     "library": "var_list.r",
     "varRefreshCmd": "cat(var_dic_list()) "
    }
   },
   "types_to_exclude": [
    "module",
    "function",
    "builtin_function_or_method",
    "instance",
    "_Feature"
   ],
   "window_display": false
  }
 },
 "nbformat": 4,
 "nbformat_minor": 2
}
